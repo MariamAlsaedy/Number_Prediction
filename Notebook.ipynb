{
 "cells": [
  {
   "cell_type": "markdown",
   "metadata": {
    "id": "_Ipm2nLSAum9"
   },
   "source": [
    "<h1 > Importing Modules</h1>"
   ]
  },
  {
   "cell_type": "code",
   "execution_count": 3,
   "metadata": {},
   "outputs": [],
   "source": [
    "import tensorflow_datasets as tfds \n",
    "import tensorflow as tf \n",
    "import math\n",
    "import numpy as np\n",
    "import matplotlib.pyplot as plt"
   ]
  },
  {
   "cell_type": "markdown",
   "metadata": {},
   "source": [
    "<h1 >Loading the MNIST data from keras.datasets</h1>"
   ]
  },
  {
   "cell_type": "code",
   "execution_count": 4,
   "metadata": {
    "id": "XlAWSSQdAyvi"
   },
   "outputs": [],
   "source": [
    "dataset,metadata = tfds.load('mnist', as_supervised=True, with_info=True)\n",
    "train_dataset, test_dataset = dataset['train'], dataset['test']"
   ]
  },
  {
   "cell_type": "markdown",
   "metadata": {},
   "source": [
    "<h1 style=color:red>pre process</h1>"
   ]
  },
  {
   "cell_type": "markdown",
   "metadata": {},
   "source": [
    "<h2>change grey value from int to float</h2>"
   ]
  },
  {
   "cell_type": "code",
   "execution_count": 5,
   "metadata": {
    "id": "tvvced-3A0jb"
   },
   "outputs": [],
   "source": [
    "def normalize(images,labels):\n",
    "  images = tf.cast(images ,tf.float32)\n",
    "  images /= 255\n",
    "  return images, labels\n",
    "\n",
    "train_dataset = train_dataset.map(normalize)\n",
    "test_dataset = test_dataset.map(normalize)"
   ]
  },
  {
   "cell_type": "markdown",
   "metadata": {},
   "source": [
    "<h1 > Re-shape & show the images</h1>"
   ]
  },
  {
   "cell_type": "code",
   "execution_count": 6,
   "metadata": {
    "colab": {
     "base_uri": "https://localhost:8080/",
     "height": 265
    },
    "id": "Hc--WSlXBshN",
    "outputId": "a78283fd-5920-4902-e6b8-f3057cc93b8d"
   },
   "outputs": [
    {
     "data": {
      "image/png": "[encoded data removed]",
      "text/plain": [
       "<Figure size 432x288 with 1 Axes>"
      ]
     },
     "metadata": {
      "needs_background": "light"
     },
     "output_type": "display_data"
    }
   ],
   "source": [
    "for image, label in test_dataset.take(1):\n",
    "  break\n",
    "image = image.numpy().reshape((28,28))\n",
    "\n",
    "plt.figure()\n",
    "plt.imshow(image,cmap=plt.cm.binary)\n",
    "plt.show()"
   ]
  },
  {
   "cell_type": "markdown",
   "metadata": {},
   "source": [
    "<h1> Take Sample With 25 Images</h1>"
   ]
  },
  {
   "cell_type": "code",
   "execution_count": 7,
   "metadata": {
    "colab": {
     "base_uri": "https://localhost:8080/",
     "height": 578
    },
    "id": "0rBwqRRQCWE6",
    "outputId": "6fd63715-7962-44c2-f5f2-36a22e1fcd03"
   },
   "outputs": [
    {
     "data": {
      "image/png": "[encoded data removed]",
      "text/plain": [
       "<Figure size 720x720 with 25 Axes>"
      ]
     },
     "metadata": {},
     "output_type": "display_data"
    }
   ],
   "source": [
    "plt.figure(figsize=(10,10))\n",
    "i = 0\n",
    "for(image,label) in test_dataset.take(25):\n",
    "  image = image.numpy().reshape((28,28))\n",
    "  plt.subplot(5,5,i+1)\n",
    "  plt.xticks([])\n",
    "  plt.yticks([])\n",
    "  plt.imshow(image,cmap=plt.cm.binary)\n",
    "  i+=1\n",
    "\n",
    "plt.show()"
   ]
  },
  {
   "cell_type": "markdown",
   "metadata": {},
   "source": [
    "<h2> Define Batch Size: that defines the number of samples to work through before updating the internal model parameters. and shuffle them</h2>"
   ]
  },
  {
   "cell_type": "code",
   "execution_count": 8,
   "metadata": {
    "id": "ja1QLTLwDba1"
   },
   "outputs": [],
   "source": [
    "BATCH_SIZE = 32\n",
    "train_dataset = train_dataset.cache().repeat().shuffle(60000).batch(BATCH_SIZE)\n",
    "test_dataset  = test_dataset.cache().batch(BATCH_SIZE)"
   ]
  },
  {
   "cell_type": "code",
   "execution_count": 9,
   "metadata": {
    "colab": {
     "base_uri": "https://localhost:8080/"
    },
    "id": "AvUhRyioEV95",
    "outputId": "73f739d1-cb17-4845-a7a7-e315b69b7909"
   },
   "outputs": [
    {
     "name": "stdout",
     "output_type": "stream",
     "text": [
      "<BatchDataset shapes: ((None, 28, 28, 1), (None,)), types: (tf.float32, tf.int64)>\n"
     ]
    }
   ],
   "source": [
    "print(train_dataset)"
   ]
  },
  {
   "cell_type": "markdown",
   "metadata": {},
   "source": [
    "![Image](cnn.gif)"
   ]
  },
  {
   "cell_type": "markdown",
   "metadata": {},
   "source": [
    "<h2>\n",
    "Architecture of a traditional CNNConvolutional neural networks<br></h2>\n",
    "also known as CNNs, are a specific type of neural networks that are generally composed of the following layers:<br>\n",
    "<ul>\n",
    "  <li>The convolution layer</li>\n",
    "  <li>pooling layer</li>\n",
    "  <li>flatten layer</li>\n",
    "</ul>\n",
    "<p>The model type that we will be using is Sequential<br>\n",
    ". Sequential is the easiest way to build a model in Keras. It allows you to build a model layer by layer.<br>\n",
    " we can see that the output of every Conv2D and MaxPooling2D layer is a 3D tensor of shape (height, width, channels).<br>\n",
    "  The width and height dimensions tend to shrink as you go deeper in the network. The number of output channels for each Conv2D layer is controlled by the first argument (e.g., 32 or 64)<br></p>\n",
    "<p>64 in the first layer and 32 in the second layer are the number of nodes in each layer. <br>\n",
    "This number can be adjusted to be higher or lower, depending on the size of the dataset. In our case, 64 and 32 work well<br>\n",
    "Kernel size is the size of the filter matrix for our convolution. So a kernel size of 3 means we will have a 3x3 filter matrix<br></p>\n",
    "\n",
    "<h3>Add Dense layers on top</h3><br>\n",
    "<p>To complete the model, you will feed the last output tensor from the convolutional base  into one or more Dense layers to perform classification. Dense layers take vectors as input (which are 1D)<br>,\n",
    " while the current output is a 3D tensor. First, you will flatten  the 3D output to 1D, then add one or more Dense layers on top,<br>\n",
    " so you use a final Dense layer with 10 outputs.</p>\n",
    "\n",
    "<p><h3>Activation is the activation function for the layer:</h3> <br>\n",
    "The activation function we will be using for our first 2 layers is the ReLU,<br>\n",
    " or Rectified Linear Activation. This activation function has been proven to work well in neural networks.<br>\n",
    " there is a ‘Flatten’ layer. Flatten serves as a connection between the convolution and dense layers.<br></p>\n"
   ]
  },
  {
   "cell_type": "code",
   "execution_count": 10,
   "metadata": {
    "id": "CMUyO3KGEiyc"
   },
   "outputs": [],
   "source": [
    "model = tf.keras.Sequential(\n",
    "    [\n",
    "        tf.keras.layers.Conv2D(32, (3,3), padding='same', activation=tf.nn.relu, input_shape=(28,28,1)),\n",
    "        tf.keras.layers.MaxPooling2D((2,2), strides=2),\n",
    "\n",
    "        tf.keras.layers.Conv2D(64, (3,3), padding='same', activation=tf.nn.relu),\n",
    "        tf.keras.layers.MaxPooling2D((2,2), strides=2),\n",
    "        \n",
    "        tf.keras.layers.Flatten(),\n",
    "        tf.keras.layers.Dense(128,activation=tf.nn.relu), \n",
    "        tf.keras.layers.Dense(10)\n",
    "    ]\n",
    ")"
   ]
  },
  {
   "cell_type": "markdown",
   "metadata": {},
   "source": [
    "<h1>\n",
    " <b >Compiling the model</b><br></h1>\n",
    "<p> we need to compile our model. Compiling the model takes three parameters: optimizer, loss and metrics.<br>\n",
    "The optimizer controls the learning rate. We will be using ‘adam’ as our optmizer<br>\n",
    " Adam is generally a good optimizer to use for many cases. The adam optimizer adjusts the learning rate throughout training.<br>\n",
    "The learning rate determines how fast the optimal weights for the model are calculated.<br>\n",
    " A smaller learning rate may lead to more accurate weights (up to a certain point),<br> \n",
    " but the time it takes to compute the weights will be longer.<br>\n",
    "We will use ‘categorical_crossentropy’ for our loss function. This is the most common choice for classification.<br>\n",
    " A lower score indicates that the model is performing better.<br>\n",
    "To make things even easier to interpret,<br>\n",
    " we will use the ‘accuracy’ metric to see the accuracy score on the validation set when we train the model.<br></p>\n"
   ]
  },
  {
   "cell_type": "code",
   "execution_count": 11,
   "metadata": {
    "id": "-FrAOR4OEivL"
   },
   "outputs": [],
   "source": [
    "model.compile(optimizer='adam',\n",
    "              loss=tf.keras.losses.SparseCategoricalCrossentropy(from_logits=True),\n",
    "              metrics=['accuracy']\n",
    "              )"
   ]
  },
  {
   "cell_type": "code",
   "execution_count": 12,
   "metadata": {
    "colab": {
     "base_uri": "https://localhost:8080/"
    },
    "id": "1Dsiqgt7EgjT",
    "outputId": "0d34bd4b-124f-4c21-a443-b17fd0d68f23"
   },
   "outputs": [
    {
     "name": "stdout",
     "output_type": "stream",
     "text": [
      "Model: \"sequential\"\n",
      "_________________________________________________________________\n",
      "Layer (type)                 Output Shape              Param #   \n",
      "=================================================================\n",
      "conv2d (Conv2D)              (None, 28, 28, 32)        320       \n",
      "_________________________________________________________________\n",
      "max_pooling2d (MaxPooling2D) (None, 14, 14, 32)        0         \n",
      "_________________________________________________________________\n",
      "conv2d_1 (Conv2D)            (None, 14, 14, 64)        18496     \n",
      "_________________________________________________________________\n",
      "max_pooling2d_1 (MaxPooling2 (None, 7, 7, 64)          0         \n",
      "_________________________________________________________________\n",
      "flatten (Flatten)            (None, 3136)              0         \n",
      "_________________________________________________________________\n",
      "dense (Dense)                (None, 128)               401536    \n",
      "_________________________________________________________________\n",
      "dense_1 (Dense)              (None, 10)                1290      \n",
      "=================================================================\n",
      "Total params: 421,642\n",
      "Trainable params: 421,642\n",
      "Non-trainable params: 0\n",
      "_________________________________________________________________\n"
     ]
    }
   ],
   "source": [
    "model.summary()"
   ]
  },
  {
   "cell_type": "markdown",
   "metadata": {},
   "source": [
    "<h1>Now we will train our model.</h1><br>\n",
    "<p>To train, we will use the ‘fit()’ <br>\n",
    "The number of epochs is the number of times the model will cycle through the data. The more epochs we run, the more the model will improve, <br>\n",
    "up to a certain point. After that point, the model will stop improving during each epoch. For our model, we will set the number of epochs to 5.</p>\n",
    "<h3><b> steps_per_epoch</b></h3>\n",
    "<p>Assume you have a dataset with 60000 samples (rows of data) and you choose a batch_size = 25 and epochs = 5<br>\n",
    "This means that the dataset will be divided into (60000/25) = 2400 batches,<br>\n",
    " having 32 samples/rows in each batch. The model weights will be updated after each batch.<br>\n",
    "one epoch will train 2400 batches or 2400 updations to the model.<br>\n",
    "here steps_per_epoch = no.of batches<br>\n",
    "With 5 epochs, the model will pass through the whole dataset 5 times.<br></p>\n",
    "\n",
    "\n"
   ]
  },
  {
   "cell_type": "code",
   "execution_count": 13,
   "metadata": {
    "colab": {
     "base_uri": "https://localhost:8080/"
    },
    "id": "KqISpNQWHLYO",
    "outputId": "5da53744-682f-4a0b-b6d6-39e6d83b39ca"
   },
   "outputs": [
    {
     "name": "stdout",
     "output_type": "stream",
     "text": [
      "Epoch 1/5\n",
      "1875/1875 [==============================] - 55s 26ms/step - loss: 0.1206 - accuracy: 0.9629\n",
      "Epoch 2/5\n",
      "1875/1875 [==============================] - 51s 27ms/step - loss: 0.0385 - accuracy: 0.9883\n",
      "Epoch 3/5\n",
      "1875/1875 [==============================] - 50s 26ms/step - loss: 0.0275 - accuracy: 0.9915\n",
      "Epoch 4/5\n",
      "1875/1875 [==============================] - 52s 28ms/step - loss: 0.0204 - accuracy: 0.99362s - loss: 0.020\n",
      "Epoch 5/5\n",
      "1875/1875 [==============================] - 49s 26ms/step - loss: 0.0137 - accuracy: 0.9953\n"
     ]
    }
   ],
   "source": [
    "hist = model.fit(train_dataset, epochs=5, steps_per_epoch=math.ceil(60000/BATCH_SIZE))"
   ]
  },
  {
   "cell_type": "code",
   "execution_count": 14,
   "metadata": {
    "colab": {
     "base_uri": "https://localhost:8080/"
    },
    "id": "WAD43ErwSQOn",
    "outputId": "fc2584d0-0a01-456e-bb07-5531f96399c8"
   },
   "outputs": [
    {
     "name": "stdout",
     "output_type": "stream",
     "text": [
      "313/313 [==============================] - 3s 10ms/step - loss: 0.0346 - accuracy: 0.9899\n"
     ]
    }
   ],
   "source": [
    "test_loss , test_accuracy = model.evaluate(test_dataset, steps=math.ceil(10000/BATCH_SIZE))"
   ]
  },
  {
   "cell_type": "markdown",
   "metadata": {},
   "source": [
    "<h1> Visualize results</h1>"
   ]
  },
  {
   "cell_type": "code",
   "execution_count": 15,
   "metadata": {
    "colab": {
     "base_uri": "https://localhost:8080/",
     "height": 296
    },
    "id": "B_FPCOl6U7Rw",
    "outputId": "fe2ef6b4-69e9-45d9-8475-a6ab5ca0c8b3"
   },
   "outputs": [
    {
     "data": {
      "image/png": "[encoded data removed]",
      "text/plain": [
       "<Figure size 432x288 with 1 Axes>"
      ]
     },
     "metadata": {
      "needs_background": "light"
     },
     "output_type": "display_data"
    }
   ],
   "source": [
    "import matplotlib.pyplot as plt\n",
    "plt.xlabel('Epoch Number')\n",
    "#plt.plot(hist.history['loss'])\n",
    "plt.plot(hist.history['accuracy']);"
   ]
  },
  {
   "cell_type": "code",
   "execution_count": 16,
   "metadata": {
    "id": "N9OyQVuEVc30",
    "outputId": "e9fb3c53-6fcc-4443-9c5b-02436dd14383"
   },
   "outputs": [
    {
     "data": {
      "image/png": "[encoded data removed]",
      "text/plain": [
       "<Figure size 432x288 with 1 Axes>"
      ]
     },
     "metadata": {
      "needs_background": "light"
     },
     "output_type": "display_data"
    }
   ],
   "source": [
    "plt.xlabel('Epoch Number')\n",
    "plt.plot(hist.history['loss']);"
   ]
  },
  {
   "cell_type": "markdown",
   "metadata": {},
   "source": [
    "<h1>Saving Model</h1>"
   ]
  },
  {
   "cell_type": "code",
   "execution_count": 17,
   "metadata": {
    "id": "8UwVtZbFyFS4"
   },
   "outputs": [],
   "source": [
    "model.save('model.h5')"
   ]
  },
  {
   "cell_type": "markdown",
   "metadata": {
    "id": "KNqNxTz2yFS5"
   },
   "source": [
    "<h1>Load Model With Keras format</h1>"
   ]
  },
  {
   "cell_type": "code",
   "execution_count": 18,
   "metadata": {},
   "outputs": [],
   "source": [
    "model = tf.keras.models.load_model('model.h5')"
   ]
  },
  {
   "cell_type": "markdown",
   "metadata": {},
   "source": [
    "<h1 >display the architecture of our model so far:</h1>"
   ]
  },
  {
   "cell_type": "code",
   "execution_count": 19,
   "metadata": {},
   "outputs": [
    {
     "name": "stdout",
     "output_type": "stream",
     "text": [
      "Model: \"sequential\"\n",
      "_________________________________________________________________\n",
      "Layer (type)                 Output Shape              Param #   \n",
      "=================================================================\n",
      "conv2d (Conv2D)              (None, 28, 28, 32)        320       \n",
      "_________________________________________________________________\n",
      "max_pooling2d (MaxPooling2D) (None, 14, 14, 32)        0         \n",
      "_________________________________________________________________\n",
      "conv2d_1 (Conv2D)            (None, 14, 14, 64)        18496     \n",
      "_________________________________________________________________\n",
      "max_pooling2d_1 (MaxPooling2 (None, 7, 7, 64)          0         \n",
      "_________________________________________________________________\n",
      "flatten (Flatten)            (None, 3136)              0         \n",
      "_________________________________________________________________\n",
      "dense (Dense)                (None, 128)               401536    \n",
      "_________________________________________________________________\n",
      "dense_1 (Dense)              (None, 10)                1290      \n",
      "=================================================================\n",
      "Total params: 421,642\n",
      "Trainable params: 421,642\n",
      "Non-trainable params: 0\n",
      "_________________________________________________________________\n"
     ]
    }
   ],
   "source": [
    "model.summary()"
   ]
  },
  {
   "cell_type": "code",
   "execution_count": 20,
   "metadata": {},
   "outputs": [
    {
     "name": "stdout",
     "output_type": "stream",
     "text": [
      "(28, 28)\n"
     ]
    },
    {
     "data": {
      "text/plain": [
       "<matplotlib.image.AxesImage at 0x1d1cadb7580>"
      ]
     },
     "execution_count": 20,
     "metadata": {},
     "output_type": "execute_result"
    },
    {
     "data": {
      "image/png": "[encoded data removed]",
      "text/plain": [
       "<Figure size 432x288 with 1 Axes>"
      ]
     },
     "metadata": {
      "needs_background": "light"
     },
     "output_type": "display_data"
    }
   ],
   "source": [
    "import cv2\n",
    "import matplotlib.pyplot as plt\n",
    "import numpy as np\n",
    "\n",
    "img = cv2.imread('test.png', 0)\n",
    "img = cv2.resize(img, (28, 28))\n",
    "print (img.shape)\n",
    "plt.imshow(img)"
   ]
  },
  {
   "cell_type": "code",
   "execution_count": 21,
   "metadata": {},
   "outputs": [
    {
     "name": "stdout",
     "output_type": "stream",
     "text": [
      "(1, 28, 28, 1)\n"
     ]
    }
   ],
   "source": [
    "img = img.reshape((-1, 28,28,1))\n",
    "print (img.shape)"
   ]
  },
  {
   "cell_type": "markdown",
   "metadata": {},
   "source": [
    " <h1>Predict AN Image </h1>\n",
    " <p>The prediction is in the form of a matrix with the numbers of the outputs closest to the prediction,<br>\n",
    "  then we choose the highest probability and display this result<br></p>\n",
    " \n",
    " \n"
   ]
  },
  {
   "cell_type": "code",
   "execution_count": 22,
   "metadata": {},
   "outputs": [],
   "source": [
    "out = model.predict(img)"
   ]
  },
  {
   "cell_type": "code",
   "execution_count": 23,
   "metadata": {},
   "outputs": [
    {
     "data": {
      "text/plain": [
       "3381.5654"
      ]
     },
     "execution_count": 23,
     "metadata": {},
     "output_type": "execute_result"
    }
   ],
   "source": [
    "max(out[0])"
   ]
  },
  {
   "cell_type": "code",
   "execution_count": 24,
   "metadata": {},
   "outputs": [
    {
     "data": {
      "text/plain": [
       "3"
      ]
     },
     "execution_count": 24,
     "metadata": {},
     "output_type": "execute_result"
    }
   ],
   "source": [
    "#highest number with highest prediction\n",
    "np.argmax(out)"
   ]
  },
  {
   "cell_type": "code",
   "execution_count": 25,
   "metadata": {},
   "outputs": [
    {
     "data": {
      "text/plain": [
       "array([[ 2858.4568 , -1795.1691 , -2233.7585 ,  3381.5654 , -4514.6743 ,\n",
       "        -1035.5887 ,   732.25287, -4198.6577 ,  1799.7356 , -1932.0681 ]],\n",
       "      dtype=float32)"
      ]
     },
     "execution_count": 25,
     "metadata": {},
     "output_type": "execute_result"
    }
   ],
   "source": [
    "out"
   ]
  }
 ],
 "metadata": {
  "colab": {
   "collapsed_sections": [],
   "name": "CNN.ipynb",
   "provenance": []
  },
  "kernelspec": {
   "display_name": "Python 3.9.7 64-bit",
   "language": "python",
   "name": "python3"
  },
  "language_info": {
   "codemirror_mode": {
    "name": "ipython",
    "version": 3
   },
   "file_extension": ".py",
   "mimetype": "text/x-python",
   "name": "python",
   "nbconvert_exporter": "python",
   "pygments_lexer": "ipython3",
   "version": "3.9.7"
  },
  "vscode": {
   "interpreter": {
    "hash": "347fd03a5b2cbefe887fd0e6d005c790c400974cf25814fefe8faefaf0f6a31f"
   }
  }
 },
 "nbformat": 4,
 "nbformat_minor": 4
}
